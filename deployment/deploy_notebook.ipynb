{
 "cells": [
  {
   "cell_type": "code",
   "execution_count": 1,
   "id": "f1e5d1c3",
   "metadata": {},
   "outputs": [],
   "source": [
    "from flask import Flask, request, jsonify\n",
    "\n",
    "from mlflow import MlflowClient\n",
    "import mlflow\n",
    "\n",
    "import pandas as pd"
   ]
  },
  {
   "cell_type": "code",
   "execution_count": 2,
   "id": "e01d3834",
   "metadata": {},
   "outputs": [],
   "source": [
    "mlflow.set_tracking_uri(\"http://127.0.0.1:5000\")\n",
    "mlflow.set_experiment(\"xgboost-ml-v1\")\n",
    "MODEL_NAME = \"best_result\""
   ]
  },
  {
   "cell_type": "code",
   "execution_count": null,
   "id": "0dcadb4f",
   "metadata": {},
   "outputs": [],
   "source": [
    "client = MlflowClient()\n",
    "\n",
    "# Get the latest versions of the registered model\n",
    "latest_versions = client.get_latest_versions(MODEL_NAME, stages=[\"Production\"])\n",
    "\n",
    "# Print run_ids of all the latest versions\n",
    "for version in latest_versions:\n",
    "    RUN_ID = version.run_id\n",
    "\n",
    "print(RUN_ID)"
   ]
  }
 ],
 "metadata": {
  "kernelspec": {
   "display_name": "Python 3 (ipykernel)",
   "language": "python",
   "name": "python3"
  },
  "language_info": {
   "codemirror_mode": {
    "name": "ipython",
    "version": 3
   },
   "file_extension": ".py",
   "mimetype": "text/x-python",
   "name": "python",
   "nbconvert_exporter": "python",
   "pygments_lexer": "ipython3",
   "version": "3.11.7"
  }
 },
 "nbformat": 4,
 "nbformat_minor": 5
}
