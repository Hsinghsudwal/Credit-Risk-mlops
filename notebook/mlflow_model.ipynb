{
 "cells": [
  {
   "cell_type": "code",
   "execution_count": 1,
   "id": "608d2ac6",
   "metadata": {},
   "outputs": [],
   "source": [
    "# !pip install mlflow"
   ]
  },
  {
   "cell_type": "code",
   "execution_count": 2,
   "id": "2175aff6",
   "metadata": {},
   "outputs": [],
   "source": [
    "# !pip install xgboost"
   ]
  },
  {
   "cell_type": "code",
   "execution_count": 3,
   "id": "259f7bec",
   "metadata": {},
   "outputs": [],
   "source": [
    "import pandas as pd\n",
    "import mlflow\n",
    "from sklearn.preprocessing import StandardScaler\n",
    "from sklearn.model_selection import train_test_split\n",
    "from xgboost import XGBClassifier\n",
    "from sklearn.model_selection import RandomizedSearchCV\n",
    "from sklearn.model_selection import KFold\n",
    "from sklearn.pipeline import make_pipeline\n",
    "from sklearn.metrics import accuracy_score, classification_report,ConfusionMatrixDisplay, \\\n",
    "                            precision_score, recall_score, f1_score, roc_auc_score, \\\n",
    "                            roc_curve,confusion_matrix"
   ]
  },
  {
   "cell_type": "code",
   "execution_count": 4,
   "id": "ccd788ce",
   "metadata": {},
   "outputs": [
    {
     "data": {
      "text/html": [
       "<div>\n",
       "<style scoped>\n",
       "    .dataframe tbody tr th:only-of-type {\n",
       "        vertical-align: middle;\n",
       "    }\n",
       "\n",
       "    .dataframe tbody tr th {\n",
       "        vertical-align: top;\n",
       "    }\n",
       "\n",
       "    .dataframe thead th {\n",
       "        text-align: right;\n",
       "    }\n",
       "</style>\n",
       "<table border=\"1\" class=\"dataframe\">\n",
       "  <thead>\n",
       "    <tr style=\"text-align: right;\">\n",
       "      <th></th>\n",
       "      <th>checking_status</th>\n",
       "      <th>duration</th>\n",
       "      <th>credit_history</th>\n",
       "      <th>purpose</th>\n",
       "      <th>credit_amount</th>\n",
       "      <th>savings_status</th>\n",
       "      <th>employment</th>\n",
       "      <th>installment_commitment</th>\n",
       "      <th>personal_status</th>\n",
       "      <th>other_parties</th>\n",
       "      <th>...</th>\n",
       "      <th>property_magnitude</th>\n",
       "      <th>age</th>\n",
       "      <th>other_payment_plans</th>\n",
       "      <th>housing</th>\n",
       "      <th>existing_credits</th>\n",
       "      <th>job</th>\n",
       "      <th>num_dependents</th>\n",
       "      <th>own_telephone</th>\n",
       "      <th>foreign_worker</th>\n",
       "      <th>class</th>\n",
       "    </tr>\n",
       "  </thead>\n",
       "  <tbody>\n",
       "    <tr>\n",
       "      <th>0</th>\n",
       "      <td>1</td>\n",
       "      <td>2</td>\n",
       "      <td>1</td>\n",
       "      <td>6</td>\n",
       "      <td>142</td>\n",
       "      <td>4</td>\n",
       "      <td>3</td>\n",
       "      <td>3</td>\n",
       "      <td>3</td>\n",
       "      <td>2</td>\n",
       "      <td>...</td>\n",
       "      <td>3</td>\n",
       "      <td>48</td>\n",
       "      <td>1</td>\n",
       "      <td>1</td>\n",
       "      <td>1</td>\n",
       "      <td>1</td>\n",
       "      <td>0</td>\n",
       "      <td>1</td>\n",
       "      <td>1</td>\n",
       "      <td>1</td>\n",
       "    </tr>\n",
       "    <tr>\n",
       "      <th>1</th>\n",
       "      <td>0</td>\n",
       "      <td>29</td>\n",
       "      <td>3</td>\n",
       "      <td>6</td>\n",
       "      <td>770</td>\n",
       "      <td>2</td>\n",
       "      <td>0</td>\n",
       "      <td>1</td>\n",
       "      <td>0</td>\n",
       "      <td>2</td>\n",
       "      <td>...</td>\n",
       "      <td>3</td>\n",
       "      <td>3</td>\n",
       "      <td>1</td>\n",
       "      <td>1</td>\n",
       "      <td>0</td>\n",
       "      <td>1</td>\n",
       "      <td>0</td>\n",
       "      <td>0</td>\n",
       "      <td>1</td>\n",
       "      <td>0</td>\n",
       "    </tr>\n",
       "    <tr>\n",
       "      <th>2</th>\n",
       "      <td>3</td>\n",
       "      <td>8</td>\n",
       "      <td>1</td>\n",
       "      <td>2</td>\n",
       "      <td>390</td>\n",
       "      <td>2</td>\n",
       "      <td>1</td>\n",
       "      <td>1</td>\n",
       "      <td>3</td>\n",
       "      <td>2</td>\n",
       "      <td>...</td>\n",
       "      <td>3</td>\n",
       "      <td>30</td>\n",
       "      <td>1</td>\n",
       "      <td>1</td>\n",
       "      <td>0</td>\n",
       "      <td>3</td>\n",
       "      <td>1</td>\n",
       "      <td>0</td>\n",
       "      <td>1</td>\n",
       "      <td>1</td>\n",
       "    </tr>\n",
       "    <tr>\n",
       "      <th>3</th>\n",
       "      <td>1</td>\n",
       "      <td>26</td>\n",
       "      <td>3</td>\n",
       "      <td>3</td>\n",
       "      <td>848</td>\n",
       "      <td>2</td>\n",
       "      <td>1</td>\n",
       "      <td>1</td>\n",
       "      <td>3</td>\n",
       "      <td>1</td>\n",
       "      <td>...</td>\n",
       "      <td>1</td>\n",
       "      <td>26</td>\n",
       "      <td>1</td>\n",
       "      <td>0</td>\n",
       "      <td>0</td>\n",
       "      <td>1</td>\n",
       "      <td>1</td>\n",
       "      <td>0</td>\n",
       "      <td>1</td>\n",
       "      <td>1</td>\n",
       "    </tr>\n",
       "    <tr>\n",
       "      <th>4</th>\n",
       "      <td>1</td>\n",
       "      <td>17</td>\n",
       "      <td>2</td>\n",
       "      <td>4</td>\n",
       "      <td>734</td>\n",
       "      <td>2</td>\n",
       "      <td>0</td>\n",
       "      <td>2</td>\n",
       "      <td>3</td>\n",
       "      <td>2</td>\n",
       "      <td>...</td>\n",
       "      <td>2</td>\n",
       "      <td>34</td>\n",
       "      <td>1</td>\n",
       "      <td>0</td>\n",
       "      <td>1</td>\n",
       "      <td>1</td>\n",
       "      <td>1</td>\n",
       "      <td>0</td>\n",
       "      <td>1</td>\n",
       "      <td>0</td>\n",
       "    </tr>\n",
       "  </tbody>\n",
       "</table>\n",
       "<p>5 rows × 21 columns</p>\n",
       "</div>"
      ],
      "text/plain": [
       "   checking_status  duration  credit_history  purpose  credit_amount  \\\n",
       "0                1         2               1        6            142   \n",
       "1                0        29               3        6            770   \n",
       "2                3         8               1        2            390   \n",
       "3                1        26               3        3            848   \n",
       "4                1        17               2        4            734   \n",
       "\n",
       "   savings_status  employment  installment_commitment  personal_status  \\\n",
       "0               4           3                       3                3   \n",
       "1               2           0                       1                0   \n",
       "2               2           1                       1                3   \n",
       "3               2           1                       1                3   \n",
       "4               2           0                       2                3   \n",
       "\n",
       "   other_parties  ...  property_magnitude  age  other_payment_plans  housing  \\\n",
       "0              2  ...                   3   48                    1        1   \n",
       "1              2  ...                   3    3                    1        1   \n",
       "2              2  ...                   3   30                    1        1   \n",
       "3              1  ...                   1   26                    1        0   \n",
       "4              2  ...                   2   34                    1        0   \n",
       "\n",
       "   existing_credits  job  num_dependents  own_telephone  foreign_worker  class  \n",
       "0                 1    1               0              1               1      1  \n",
       "1                 0    1               0              0               1      0  \n",
       "2                 0    3               1              0               1      1  \n",
       "3                 0    1               1              0               1      1  \n",
       "4                 1    1               1              0               1      0  \n",
       "\n",
       "[5 rows x 21 columns]"
      ]
     },
     "execution_count": 4,
     "metadata": {},
     "output_type": "execute_result"
    }
   ],
   "source": [
    "data = pd.read_csv('process.csv', index_col=0)\n",
    "data.head()"
   ]
  },
  {
   "cell_type": "code",
   "execution_count": 5,
   "id": "ca8019f6",
   "metadata": {},
   "outputs": [],
   "source": [
    "# Independent and dependent data\n",
    "x = data[data.columns.difference(['class'])]\n",
    "y = data['class']"
   ]
  },
  {
   "cell_type": "code",
   "execution_count": 6,
   "id": "82067975",
   "metadata": {},
   "outputs": [
    {
     "data": {
      "text/plain": [
       "array([[ 2.78850999, -0.4645937 , -1.15669474, ...,  0.62648137,\n",
       "         1.04698668,  1.66990103],\n",
       "       [-1.19773321, -1.26286467,  1.21764107, ...,  0.62648137,\n",
       "        -0.76597727, -0.13053135],\n",
       "       [ 1.19401271,  1.13194823, -0.21905894, ..., -1.02650377,\n",
       "         0.14050471, -0.13053135],\n",
       "       ...,\n",
       "       [ 0.21959771,  1.13194823, -1.43269237, ...,  0.62648137,\n",
       "         1.04698668, -0.13053135],\n",
       "       [-1.10915003, -0.4645937 , -0.43834473, ...,  0.62648137,\n",
       "         1.04698668, -0.13053135],\n",
       "       [-0.7548173 , -1.26286467,  0.99457449, ...,  1.86622023,\n",
       "         1.04698668, -1.93096373]])"
      ]
     },
     "execution_count": 6,
     "metadata": {},
     "output_type": "execute_result"
    }
   ],
   "source": [
    "# Scaler data\n",
    "scaler =  StandardScaler()\n",
    "Xscale  = scaler.fit_transform(x)\n",
    "Xscale"
   ]
  },
  {
   "cell_type": "code",
   "execution_count": 7,
   "id": "9d15eaf8",
   "metadata": {},
   "outputs": [
    {
     "data": {
      "text/plain": [
       "((800, 20), (200, 20), (800,), (200,))"
      ]
     },
     "execution_count": 7,
     "metadata": {},
     "output_type": "execute_result"
    }
   ],
   "source": [
    "# train test split\n",
    "X_train, X_test, y_train, y_test = train_test_split(Xscale, y, test_size = 0.20, random_state=42)\n",
    "X_train.shape, X_test.shape, y_train.shape, y_test.shape"
   ]
  },
  {
   "cell_type": "code",
   "execution_count": 8,
   "id": "43575e58",
   "metadata": {},
   "outputs": [
    {
     "data": {
      "text/plain": [
       "<Experiment: artifact_location='file:///C:/Users/sudwa/Desktop/mlops-credit-card-risk/notebook/mlruns/1', creation_time=1721066323794, experiment_id='1', last_update_time=1721066323794, lifecycle_stage='active', name='xgboost-ml', tags={}>"
      ]
     },
     "execution_count": 8,
     "metadata": {},
     "output_type": "execute_result"
    }
   ],
   "source": [
    "mlflow.set_tracking_uri(\"sqlite:///mlflow.db\")\n",
    "mlflow.set_experiment(\"xgboost-ml\")"
   ]
  },
  {
   "cell_type": "code",
   "execution_count": 9,
   "id": "c483b302",
   "metadata": {},
   "outputs": [
    {
     "name": "stderr",
     "output_type": "stream",
     "text": [
      "2024/07/15 12:54:19 INFO mlflow.tracking.fluent: Experiment with name 'my-experiment-1' does not exist. Creating a new experiment.\n",
      "C:\\Users\\sudwa\\anaconda3\\Lib\\site-packages\\sklearn\\model_selection\\_search.py:318: UserWarning: The total space of parameters 12 is smaller than n_iter=100. Running 12 iterations. For exhaustive searches, use GridSearchCV.\n",
      "  warnings.warn(\n"
     ]
    },
    {
     "name": "stdout",
     "output_type": "stream",
     "text": [
      "Fitting 30 folds for each of 12 candidates, totalling 360 fits\n",
      "{'min_child_weight': 5, 'max_depth': 7}\n"
     ]
    },
    {
     "name": "stderr",
     "output_type": "stream",
     "text": [
      "C:\\Users\\sudwa\\anaconda3\\Lib\\site-packages\\_distutils_hack\\__init__.py:33: UserWarning: Setuptools is replacing distutils.\n",
      "  warnings.warn(\"Setuptools is replacing distutils.\")\n"
     ]
    }
   ],
   "source": [
    "# first run\n",
    "\n",
    "xgboost_params = {\n",
    "    'max_depth':range(3,10,2),\n",
    "    'min_child_weight':range(1,6,2)\n",
    "}\n",
    "kf = KFold(n_splits=30)\n",
    "           \n",
    "with mlflow.start_run():\n",
    "    mlflow.set_tag(\"model\",\"XGBClassifier\")\n",
    "    mlflow.log_param(\"xgboost_params\",xgboost_params)\n",
    "\n",
    "    randomcv_models = XGBClassifier()\n",
    "\n",
    "    random = RandomizedSearchCV(estimator=randomcv_models,\n",
    "                                        param_distributions=xgboost_params,\n",
    "                                       n_iter=100,\n",
    "                                       cv=kf,\n",
    "                                       verbose=2, \n",
    "                                       n_jobs=-1)\n",
    "    random.fit(X_train, y_train)\n",
    "    print(random.best_params_)\n",
    "    \n",
    "    y_pred = random.predict(X_test)\n",
    "\n",
    "    mlflow.sklearn.log_model(random, artifact_path=\"models\")"
   ]
  },
  {
   "cell_type": "code",
   "execution_count": 10,
   "id": "2df8d2da",
   "metadata": {},
   "outputs": [
    {
     "data": {
      "text/plain": [
       "[<Experiment: artifact_location='file:///C:/Users/sudwa/Desktop/mlops-credit-card-risk/notebook/mlruns/2', creation_time=1721073259866, experiment_id='2', last_update_time=1721073259866, lifecycle_stage='active', name='my-experiment-1', tags={}>,\n",
       " <Experiment: artifact_location='file:///C:/Users/sudwa/Desktop/mlops-credit-card-risk/notebook/mlruns/1', creation_time=1721066323794, experiment_id='1', last_update_time=1721066323794, lifecycle_stage='active', name='xgboost-ml', tags={}>,\n",
       " <Experiment: artifact_location='file:///C:/Users/sudwa/Desktop/mlops-credit-card-risk/notebook/mlruns/0', creation_time=1721066323762, experiment_id='0', last_update_time=1721066323762, lifecycle_stage='active', name='Default', tags={}>]"
      ]
     },
     "execution_count": 10,
     "metadata": {},
     "output_type": "execute_result"
    }
   ],
   "source": [
    "# first search\n",
    "mlflow.search_experiments()"
   ]
  },
  {
   "cell_type": "code",
   "execution_count": 11,
   "id": "d0d6b375",
   "metadata": {},
   "outputs": [
    {
     "name": "stdout",
     "output_type": "stream",
     "text": [
      "tracking URI: 'http://127.0.0.1:5000'\n"
     ]
    }
   ],
   "source": [
    "import mlflow\n",
    "\n",
    "mlflow.set_tracking_uri(\"http://127.0.0.1:5000\")\n",
    "print(f\"tracking URI: '{mlflow.get_tracking_uri()}'\")"
   ]
  },
  {
   "cell_type": "code",
   "execution_count": 12,
   "id": "1b60fe9e",
   "metadata": {},
   "outputs": [
    {
     "name": "stdout",
     "output_type": "stream",
     "text": [
      "Fitting 30 folds for each of 12 candidates, totalling 360 fits\n",
      "{'min_child_weight': 5, 'max_depth': 7}\n",
      "default artifacts URI: 'file:///C:/Users/sudwa/Desktop/mlops-credit-card-risk/mlruns/3/c9fe7910bd85438b8cb8688214e6c456/artifacts'\n"
     ]
    }
   ],
   "source": [
    "#second run\n",
    "xgboost_params = {\n",
    "    'max_depth':range(3,10,2),\n",
    "    'min_child_weight':range(1,6,2)\n",
    "}\n",
    "kf = KFold(n_splits=30)\n",
    "           \n",
    "mlflow.set_experiment(\"my-experiment-2\")\n",
    "with mlflow.start_run():\n",
    "    mlflow.set_tag(\"model\",\"XGBClassifier\")\n",
    "    mlflow.log_param(\"xgboost_params\",xgboost_params)\n",
    "\n",
    "    randomcv_models = XGBClassifier()\n",
    "\n",
    "    random = RandomizedSearchCV(estimator=randomcv_models,\n",
    "                                        param_distributions=xgboost_params,\n",
    "                                       n_iter=100,\n",
    "                                       cv=kf,\n",
    "                                       verbose=2, \n",
    "                                       n_jobs=-1)\n",
    "    random.fit(X_train, y_train)\n",
    "    print(random.best_params_)\n",
    "    \n",
    "    y_pred = random.predict(X_test)\n",
    "\n",
    "    mlflow.sklearn.log_model(random, artifact_path=\"models\")\n",
    "    print(f\"default artifacts URI: '{mlflow.get_artifact_uri()}'\")"
   ]
  },
  {
   "cell_type": "code",
   "execution_count": 13,
   "id": "ff376b9a",
   "metadata": {},
   "outputs": [
    {
     "name": "stdout",
     "output_type": "stream",
     "text": [
      "Fitting 30 folds for each of 12 candidates, totalling 360 fits\n",
      "{'min_child_weight': 5, 'max_depth': 7}\n",
      "default artifacts URI: 'file:///C:/Users/sudwa/Desktop/mlops-credit-card-risk/mlruns/4/b30a3d95a2d24bbf8f1e63000fd39cd8/artifacts'\n"
     ]
    }
   ],
   "source": [
    "#third run\n",
    "xgboost_params = {\n",
    "    'max_depth':range(3,10,2),\n",
    "    'min_child_weight':range(1,6,2)\n",
    "}\n",
    "kf = KFold(n_splits=30)\n",
    "           \n",
    "mlflow.set_experiment(\"my-experiment-3\")\n",
    "with mlflow.start_run():\n",
    "    mlflow.set_tag(\"model\",\"XGBClassifier\")\n",
    "    mlflow.log_param(\"xgboost_params\",xgboost_params)\n",
    "\n",
    "    randomcv_models = XGBClassifier()\n",
    "\n",
    "    random = RandomizedSearchCV(estimator=randomcv_models,\n",
    "                                        param_distributions=xgboost_params,\n",
    "                                       n_iter=100,\n",
    "                                       cv=kf,\n",
    "                                       verbose=2, \n",
    "                                       n_jobs=-1)\n",
    "    random.fit(X_train, y_train)\n",
    "    print(random.best_params_)\n",
    "    \n",
    "    y_pred = random.predict(X_test)\n",
    "\n",
    "    mlflow.sklearn.log_model(random, artifact_path=\"models\")\n",
    "    print(f\"default artifacts URI: '{mlflow.get_artifact_uri()}'\")"
   ]
  },
  {
   "cell_type": "code",
   "execution_count": 14,
   "id": "b65162a2",
   "metadata": {},
   "outputs": [
    {
     "data": {
      "text/plain": [
       "[<Experiment: artifact_location='file:///C:/Users/sudwa/Desktop/mlops-credit-card-risk/mlruns/4', creation_time=1721072751873, experiment_id='4', last_update_time=1721072751873, lifecycle_stage='active', name='my-experiment-v3', tags={}>,\n",
       " <Experiment: artifact_location='file:///C:/Users/sudwa/Desktop/mlops-credit-card-risk/mlruns/3', creation_time=1721072687219, experiment_id='3', last_update_time=1721072687219, lifecycle_stage='active', name='my-experiment-2', tags={}>,\n",
       " <Experiment: artifact_location='file:///C:/Users/sudwa/Desktop/mlops-credit-card-risk/mlruns/2', creation_time=1721072626132, experiment_id='2', last_update_time=1721072626132, lifecycle_stage='active', name='my-experiment-1', tags={}>,\n",
       " <Experiment: artifact_location='file:///C:/Users/sudwa/Desktop/mlops-credit-card-risk/mlruns/1', creation_time=1721069151515, experiment_id='1', last_update_time=1721069151515, lifecycle_stage='active', name='my-experiment-v1', tags={}>,\n",
       " <Experiment: artifact_location='file:///C:/Users/sudwa/Desktop/mlops-credit-card-risk/mlruns/0', creation_time=1721066118524, experiment_id='0', last_update_time=1721066118524, lifecycle_stage='active', name='Default', tags={}>]"
      ]
     },
     "execution_count": 14,
     "metadata": {},
     "output_type": "execute_result"
    }
   ],
   "source": [
    "# second and third search\n",
    "mlflow.search_experiments()"
   ]
  },
  {
   "cell_type": "code",
   "execution_count": 15,
   "id": "07fa2af3",
   "metadata": {},
   "outputs": [],
   "source": [
    "# interacting model registry"
   ]
  },
  {
   "cell_type": "code",
   "execution_count": 16,
   "id": "cf312a94",
   "metadata": {},
   "outputs": [
    {
     "ename": "RestException",
     "evalue": "RESOURCE_ALREADY_EXISTS: Registered Model (name=my-experiment-v3) already exists. Error: (sqlite3.IntegrityError) UNIQUE constraint failed: registered_models.name\n[SQL: INSERT INTO registered_models (name, creation_time, last_updated_time, description) VALUES (?, ?, ?, ?)]\n[parameters: ('my-experiment-v3', 1721073453766, 1721073453766, '')]\n(Background on this error at: https://sqlalche.me/e/14/gkpj)",
     "output_type": "error",
     "traceback": [
      "\u001b[1;31m---------------------------------------------------------------------------\u001b[0m",
      "\u001b[1;31mRestException\u001b[0m                             Traceback (most recent call last)",
      "Cell \u001b[1;32mIn[16], line 6\u001b[0m\n\u001b[0;32m      2\u001b[0m \u001b[38;5;28;01mfrom\u001b[39;00m \u001b[38;5;21;01mmlflow\u001b[39;00m\u001b[38;5;21;01m.\u001b[39;00m\u001b[38;5;21;01mtracking\u001b[39;00m \u001b[38;5;28;01mimport\u001b[39;00m MlflowClient\n\u001b[0;32m      4\u001b[0m client \u001b[38;5;241m=\u001b[39m MlflowClient(\u001b[38;5;124m\"\u001b[39m\u001b[38;5;124mhttp://127.0.0.1:5000\u001b[39m\u001b[38;5;124m\"\u001b[39m)\n\u001b[1;32m----> 6\u001b[0m \u001b[38;5;28mid\u001b[39m \u001b[38;5;241m=\u001b[39m client\u001b[38;5;241m.\u001b[39mcreate_registered_model(name\u001b[38;5;241m=\u001b[39m\u001b[38;5;124m'\u001b[39m\u001b[38;5;124mmy-experiment-v3\u001b[39m\u001b[38;5;124m'\u001b[39m)\n\u001b[0;32m      7\u001b[0m \u001b[38;5;28mprint\u001b[39m(\u001b[38;5;28mid\u001b[39m)\n",
      "File \u001b[1;32m~\\anaconda3\\Lib\\site-packages\\mlflow\\tracking\\client.py:3090\u001b[0m, in \u001b[0;36mMlflowClient.create_registered_model\u001b[1;34m(self, name, tags, description)\u001b[0m\n\u001b[0;32m   3044\u001b[0m \u001b[38;5;28;01mdef\u001b[39;00m \u001b[38;5;21mcreate_registered_model\u001b[39m(\n\u001b[0;32m   3045\u001b[0m     \u001b[38;5;28mself\u001b[39m, name: \u001b[38;5;28mstr\u001b[39m, tags: Optional[Dict[\u001b[38;5;28mstr\u001b[39m, Any]] \u001b[38;5;241m=\u001b[39m \u001b[38;5;28;01mNone\u001b[39;00m, description: Optional[\u001b[38;5;28mstr\u001b[39m] \u001b[38;5;241m=\u001b[39m \u001b[38;5;28;01mNone\u001b[39;00m\n\u001b[0;32m   3046\u001b[0m ) \u001b[38;5;241m-\u001b[39m\u001b[38;5;241m>\u001b[39m RegisteredModel:\n\u001b[0;32m   3047\u001b[0m \u001b[38;5;250m    \u001b[39m\u001b[38;5;124;03m\"\"\"\u001b[39;00m\n\u001b[0;32m   3048\u001b[0m \u001b[38;5;124;03m    Create a new registered model in backend store.\u001b[39;00m\n\u001b[0;32m   3049\u001b[0m \n\u001b[1;32m   (...)\u001b[0m\n\u001b[0;32m   3088\u001b[0m \n\u001b[0;32m   3089\u001b[0m \u001b[38;5;124;03m    \"\"\"\u001b[39;00m\n\u001b[1;32m-> 3090\u001b[0m     \u001b[38;5;28;01mreturn\u001b[39;00m \u001b[38;5;28mself\u001b[39m\u001b[38;5;241m.\u001b[39m_get_registry_client()\u001b[38;5;241m.\u001b[39mcreate_registered_model(name, tags, description)\n",
      "File \u001b[1;32m~\\anaconda3\\Lib\\site-packages\\mlflow\\tracking\\_model_registry\\client.py:63\u001b[0m, in \u001b[0;36mModelRegistryClient.create_registered_model\u001b[1;34m(self, name, tags, description)\u001b[0m\n\u001b[0;32m     61\u001b[0m tags \u001b[38;5;241m=\u001b[39m tags \u001b[38;5;28;01mif\u001b[39;00m tags \u001b[38;5;28;01melse\u001b[39;00m {}\n\u001b[0;32m     62\u001b[0m tags \u001b[38;5;241m=\u001b[39m [RegisteredModelTag(key, \u001b[38;5;28mstr\u001b[39m(value)) \u001b[38;5;28;01mfor\u001b[39;00m key, value \u001b[38;5;129;01min\u001b[39;00m tags\u001b[38;5;241m.\u001b[39mitems()]\n\u001b[1;32m---> 63\u001b[0m \u001b[38;5;28;01mreturn\u001b[39;00m \u001b[38;5;28mself\u001b[39m\u001b[38;5;241m.\u001b[39mstore\u001b[38;5;241m.\u001b[39mcreate_registered_model(name, tags, description)\n",
      "File \u001b[1;32m~\\anaconda3\\Lib\\site-packages\\mlflow\\store\\model_registry\\rest_store.py:82\u001b[0m, in \u001b[0;36mRestStore.create_registered_model\u001b[1;34m(self, name, tags, description)\u001b[0m\n\u001b[0;32m     78\u001b[0m proto_tags \u001b[38;5;241m=\u001b[39m [tag\u001b[38;5;241m.\u001b[39mto_proto() \u001b[38;5;28;01mfor\u001b[39;00m tag \u001b[38;5;129;01min\u001b[39;00m tags \u001b[38;5;129;01mor\u001b[39;00m []]\n\u001b[0;32m     79\u001b[0m req_body \u001b[38;5;241m=\u001b[39m message_to_json(\n\u001b[0;32m     80\u001b[0m     CreateRegisteredModel(name\u001b[38;5;241m=\u001b[39mname, tags\u001b[38;5;241m=\u001b[39mproto_tags, description\u001b[38;5;241m=\u001b[39mdescription)\n\u001b[0;32m     81\u001b[0m )\n\u001b[1;32m---> 82\u001b[0m response_proto \u001b[38;5;241m=\u001b[39m \u001b[38;5;28mself\u001b[39m\u001b[38;5;241m.\u001b[39m_call_endpoint(CreateRegisteredModel, req_body)\n\u001b[0;32m     83\u001b[0m \u001b[38;5;28;01mreturn\u001b[39;00m RegisteredModel\u001b[38;5;241m.\u001b[39mfrom_proto(response_proto\u001b[38;5;241m.\u001b[39mregistered_model)\n",
      "File \u001b[1;32m~\\anaconda3\\Lib\\site-packages\\mlflow\\store\\model_registry\\base_rest_store.py:44\u001b[0m, in \u001b[0;36mBaseRestStore._call_endpoint\u001b[1;34m(self, api, json_body, call_all_endpoints, extra_headers)\u001b[0m\n\u001b[0;32m     42\u001b[0m \u001b[38;5;28;01melse\u001b[39;00m:\n\u001b[0;32m     43\u001b[0m     endpoint, method \u001b[38;5;241m=\u001b[39m \u001b[38;5;28mself\u001b[39m\u001b[38;5;241m.\u001b[39m_get_endpoint_from_method(api)\n\u001b[1;32m---> 44\u001b[0m     \u001b[38;5;28;01mreturn\u001b[39;00m call_endpoint(\n\u001b[0;32m     45\u001b[0m         \u001b[38;5;28mself\u001b[39m\u001b[38;5;241m.\u001b[39mget_host_creds(), endpoint, method, json_body, response_proto, extra_headers\n\u001b[0;32m     46\u001b[0m     )\n",
      "File \u001b[1;32m~\\anaconda3\\Lib\\site-packages\\mlflow\\utils\\rest_utils.py:304\u001b[0m, in \u001b[0;36mcall_endpoint\u001b[1;34m(host_creds, endpoint, method, json_body, response_proto, extra_headers)\u001b[0m\n\u001b[0;32m    301\u001b[0m     call_kwargs[\u001b[38;5;124m\"\u001b[39m\u001b[38;5;124mjson\u001b[39m\u001b[38;5;124m\"\u001b[39m] \u001b[38;5;241m=\u001b[39m json_body\n\u001b[0;32m    302\u001b[0m     response \u001b[38;5;241m=\u001b[39m http_request(\u001b[38;5;241m*\u001b[39m\u001b[38;5;241m*\u001b[39mcall_kwargs)\n\u001b[1;32m--> 304\u001b[0m response \u001b[38;5;241m=\u001b[39m verify_rest_response(response, endpoint)\n\u001b[0;32m    305\u001b[0m js_dict \u001b[38;5;241m=\u001b[39m json\u001b[38;5;241m.\u001b[39mloads(response\u001b[38;5;241m.\u001b[39mtext)\n\u001b[0;32m    306\u001b[0m parse_dict(js_dict\u001b[38;5;241m=\u001b[39mjs_dict, message\u001b[38;5;241m=\u001b[39mresponse_proto)\n",
      "File \u001b[1;32m~\\anaconda3\\Lib\\site-packages\\mlflow\\utils\\rest_utils.py:174\u001b[0m, in \u001b[0;36mverify_rest_response\u001b[1;34m(response, endpoint)\u001b[0m\n\u001b[0;32m    172\u001b[0m \u001b[38;5;28;01mif\u001b[39;00m response\u001b[38;5;241m.\u001b[39mstatus_code \u001b[38;5;241m!=\u001b[39m \u001b[38;5;241m200\u001b[39m:\n\u001b[0;32m    173\u001b[0m     \u001b[38;5;28;01mif\u001b[39;00m _can_parse_as_json_object(response\u001b[38;5;241m.\u001b[39mtext):\n\u001b[1;32m--> 174\u001b[0m         \u001b[38;5;28;01mraise\u001b[39;00m RestException(json\u001b[38;5;241m.\u001b[39mloads(response\u001b[38;5;241m.\u001b[39mtext))\n\u001b[0;32m    175\u001b[0m     \u001b[38;5;28;01melse\u001b[39;00m:\n\u001b[0;32m    176\u001b[0m         base_msg \u001b[38;5;241m=\u001b[39m (\n\u001b[0;32m    177\u001b[0m             \u001b[38;5;124mf\u001b[39m\u001b[38;5;124m\"\u001b[39m\u001b[38;5;124mAPI request to endpoint \u001b[39m\u001b[38;5;132;01m{\u001b[39;00mendpoint\u001b[38;5;132;01m}\u001b[39;00m\u001b[38;5;124m \u001b[39m\u001b[38;5;124m\"\u001b[39m\n\u001b[0;32m    178\u001b[0m             \u001b[38;5;124mf\u001b[39m\u001b[38;5;124m\"\u001b[39m\u001b[38;5;124mfailed with error code \u001b[39m\u001b[38;5;132;01m{\u001b[39;00mresponse\u001b[38;5;241m.\u001b[39mstatus_code\u001b[38;5;132;01m}\u001b[39;00m\u001b[38;5;124m != 200\u001b[39m\u001b[38;5;124m\"\u001b[39m\n\u001b[0;32m    179\u001b[0m         )\n",
      "\u001b[1;31mRestException\u001b[0m: RESOURCE_ALREADY_EXISTS: Registered Model (name=my-experiment-v3) already exists. Error: (sqlite3.IntegrityError) UNIQUE constraint failed: registered_models.name\n[SQL: INSERT INTO registered_models (name, creation_time, last_updated_time, description) VALUES (?, ?, ?, ?)]\n[parameters: ('my-experiment-v3', 1721073453766, 1721073453766, '')]\n(Background on this error at: https://sqlalche.me/e/14/gkpj)"
     ]
    }
   ],
   "source": [
    "# way 1\n",
    "from mlflow.tracking import MlflowClient\n",
    "\n",
    "client = MlflowClient(\"http://127.0.0.1:5000\")\n",
    "\n",
    "id = client.create_registered_model(name='my-experiment-v3')\n",
    "print(id)"
   ]
  },
  {
   "cell_type": "code",
   "execution_count": 17,
   "id": "4ef63640",
   "metadata": {},
   "outputs": [
    {
     "name": "stdout",
     "output_type": "stream",
     "text": [
      "<Experiment: artifact_location='file:///C:/Users/sudwa/Desktop/mlops-credit-card-risk/mlruns/0', creation_time=1721066118524, experiment_id='0', last_update_time=1721066118524, lifecycle_stage='active', name='Default', tags={}>\n"
     ]
    },
    {
     "name": "stderr",
     "output_type": "stream",
     "text": [
      "Registered model 'xgboost-classifiers' already exists. Creating a new version of this model...\n"
     ]
    },
    {
     "ename": "RestException",
     "evalue": "RESOURCE_DOES_NOT_EXIST: Run with id=<Experiment: artifact_location='file: not found",
     "output_type": "error",
     "traceback": [
      "\u001b[1;31m---------------------------------------------------------------------------\u001b[0m",
      "\u001b[1;31mRestException\u001b[0m                             Traceback (most recent call last)",
      "Cell \u001b[1;32mIn[17], line 5\u001b[0m\n\u001b[0;32m      2\u001b[0m run_id\u001b[38;5;241m=\u001b[39mclient\u001b[38;5;241m.\u001b[39mget_experiment(experiment_id\u001b[38;5;241m=\u001b[39m\u001b[38;5;124m'\u001b[39m\u001b[38;5;124m0\u001b[39m\u001b[38;5;124m'\u001b[39m)\n\u001b[0;32m      4\u001b[0m \u001b[38;5;28mprint\u001b[39m(run_id)\n\u001b[1;32m----> 5\u001b[0m mlflow\u001b[38;5;241m.\u001b[39mregister_model(\n\u001b[0;32m      6\u001b[0m     model_uri\u001b[38;5;241m=\u001b[39m\u001b[38;5;124mf\u001b[39m\u001b[38;5;124m\"\u001b[39m\u001b[38;5;124mruns:/\u001b[39m\u001b[38;5;132;01m{\u001b[39;00mrun_id\u001b[38;5;132;01m}\u001b[39;00m\u001b[38;5;124m/models\u001b[39m\u001b[38;5;124m\"\u001b[39m,\n\u001b[0;32m      7\u001b[0m     name\u001b[38;5;241m=\u001b[39m\u001b[38;5;124m'\u001b[39m\u001b[38;5;124mxgboost-classifiers\u001b[39m\u001b[38;5;124m'\u001b[39m\n\u001b[0;32m      8\u001b[0m )\n",
      "File \u001b[1;32m~\\anaconda3\\Lib\\site-packages\\mlflow\\tracking\\_model_registry\\fluent.py:77\u001b[0m, in \u001b[0;36mregister_model\u001b[1;34m(model_uri, name, await_registration_for, tags)\u001b[0m\n\u001b[0;32m     17\u001b[0m \u001b[38;5;28;01mdef\u001b[39;00m \u001b[38;5;21mregister_model\u001b[39m(\n\u001b[0;32m     18\u001b[0m     model_uri,\n\u001b[0;32m     19\u001b[0m     name,\n\u001b[1;32m   (...)\u001b[0m\n\u001b[0;32m     22\u001b[0m     tags: Optional[Dict[\u001b[38;5;28mstr\u001b[39m, Any]] \u001b[38;5;241m=\u001b[39m \u001b[38;5;28;01mNone\u001b[39;00m,\n\u001b[0;32m     23\u001b[0m ) \u001b[38;5;241m-\u001b[39m\u001b[38;5;241m>\u001b[39m ModelVersion:\n\u001b[0;32m     24\u001b[0m \u001b[38;5;250m    \u001b[39m\u001b[38;5;124;03m\"\"\"Create a new model version in model registry for the model files specified by ``model_uri``.\u001b[39;00m\n\u001b[0;32m     25\u001b[0m \n\u001b[0;32m     26\u001b[0m \u001b[38;5;124;03m    Note that this method assumes the model registry backend URI is the same as that of the\u001b[39;00m\n\u001b[1;32m   (...)\u001b[0m\n\u001b[0;32m     75\u001b[0m \u001b[38;5;124;03m        Version: 1\u001b[39;00m\n\u001b[0;32m     76\u001b[0m \u001b[38;5;124;03m    \"\"\"\u001b[39;00m\n\u001b[1;32m---> 77\u001b[0m     \u001b[38;5;28;01mreturn\u001b[39;00m _register_model(\n\u001b[0;32m     78\u001b[0m         model_uri\u001b[38;5;241m=\u001b[39mmodel_uri, name\u001b[38;5;241m=\u001b[39mname, await_registration_for\u001b[38;5;241m=\u001b[39mawait_registration_for, tags\u001b[38;5;241m=\u001b[39mtags\n\u001b[0;32m     79\u001b[0m     )\n",
      "File \u001b[1;32m~\\anaconda3\\Lib\\site-packages\\mlflow\\tracking\\_model_registry\\fluent.py:109\u001b[0m, in \u001b[0;36m_register_model\u001b[1;34m(model_uri, name, await_registration_for, tags, local_model_path)\u001b[0m\n\u001b[0;32m    107\u001b[0m source \u001b[38;5;241m=\u001b[39m model_uri\n\u001b[0;32m    108\u001b[0m \u001b[38;5;28;01mif\u001b[39;00m RunsArtifactRepository\u001b[38;5;241m.\u001b[39mis_runs_uri(model_uri):\n\u001b[1;32m--> 109\u001b[0m     source \u001b[38;5;241m=\u001b[39m RunsArtifactRepository\u001b[38;5;241m.\u001b[39mget_underlying_uri(model_uri)\n\u001b[0;32m    110\u001b[0m     (run_id, _) \u001b[38;5;241m=\u001b[39m RunsArtifactRepository\u001b[38;5;241m.\u001b[39mparse_runs_uri(model_uri)\n\u001b[0;32m    112\u001b[0m create_version_response \u001b[38;5;241m=\u001b[39m client\u001b[38;5;241m.\u001b[39m_create_model_version(\n\u001b[0;32m    113\u001b[0m     name\u001b[38;5;241m=\u001b[39mname,\n\u001b[0;32m    114\u001b[0m     source\u001b[38;5;241m=\u001b[39msource,\n\u001b[1;32m   (...)\u001b[0m\n\u001b[0;32m    118\u001b[0m     local_model_path\u001b[38;5;241m=\u001b[39mlocal_model_path,\n\u001b[0;32m    119\u001b[0m )\n",
      "File \u001b[1;32m~\\anaconda3\\Lib\\site-packages\\mlflow\\store\\artifact\\runs_artifact_repo.py:39\u001b[0m, in \u001b[0;36mRunsArtifactRepository.get_underlying_uri\u001b[1;34m(runs_uri)\u001b[0m\n\u001b[0;32m     37\u001b[0m (run_id, artifact_path) \u001b[38;5;241m=\u001b[39m RunsArtifactRepository\u001b[38;5;241m.\u001b[39mparse_runs_uri(runs_uri)\n\u001b[0;32m     38\u001b[0m tracking_uri \u001b[38;5;241m=\u001b[39m get_databricks_profile_uri_from_artifact_uri(runs_uri)\n\u001b[1;32m---> 39\u001b[0m uri \u001b[38;5;241m=\u001b[39m get_artifact_uri(run_id, artifact_path, tracking_uri)\n\u001b[0;32m     40\u001b[0m \u001b[38;5;28;01massert\u001b[39;00m \u001b[38;5;129;01mnot\u001b[39;00m RunsArtifactRepository\u001b[38;5;241m.\u001b[39mis_runs_uri(uri)  \u001b[38;5;66;03m# avoid an infinite loop\u001b[39;00m\n\u001b[0;32m     41\u001b[0m \u001b[38;5;28;01mreturn\u001b[39;00m add_databricks_profile_info_to_artifact_uri(uri, tracking_uri)\n",
      "File \u001b[1;32m~\\anaconda3\\Lib\\site-packages\\mlflow\\tracking\\artifact_utils.py:52\u001b[0m, in \u001b[0;36mget_artifact_uri\u001b[1;34m(run_id, artifact_path, tracking_uri)\u001b[0m\n\u001b[0;32m     46\u001b[0m     \u001b[38;5;28;01mraise\u001b[39;00m MlflowException(\n\u001b[0;32m     47\u001b[0m         message\u001b[38;5;241m=\u001b[39m\u001b[38;5;124m\"\u001b[39m\u001b[38;5;124mA run_id must be specified in order to obtain an artifact uri!\u001b[39m\u001b[38;5;124m\"\u001b[39m,\n\u001b[0;32m     48\u001b[0m         error_code\u001b[38;5;241m=\u001b[39mINVALID_PARAMETER_VALUE,\n\u001b[0;32m     49\u001b[0m     )\n\u001b[0;32m     51\u001b[0m store \u001b[38;5;241m=\u001b[39m _get_store(tracking_uri)\n\u001b[1;32m---> 52\u001b[0m run \u001b[38;5;241m=\u001b[39m store\u001b[38;5;241m.\u001b[39mget_run(run_id)\n\u001b[0;32m     53\u001b[0m \u001b[38;5;66;03m# Maybe move this method to RunsArtifactRepository so the circular dependency is clearer.\u001b[39;00m\n\u001b[0;32m     54\u001b[0m \u001b[38;5;28;01massert\u001b[39;00m urllib\u001b[38;5;241m.\u001b[39mparse\u001b[38;5;241m.\u001b[39murlparse(run\u001b[38;5;241m.\u001b[39minfo\u001b[38;5;241m.\u001b[39martifact_uri)\u001b[38;5;241m.\u001b[39mscheme \u001b[38;5;241m!=\u001b[39m \u001b[38;5;124m\"\u001b[39m\u001b[38;5;124mruns\u001b[39m\u001b[38;5;124m\"\u001b[39m  \u001b[38;5;66;03m# avoid an infinite loop\u001b[39;00m\n",
      "File \u001b[1;32m~\\anaconda3\\Lib\\site-packages\\mlflow\\store\\tracking\\rest_store.py:165\u001b[0m, in \u001b[0;36mRestStore.get_run\u001b[1;34m(self, run_id)\u001b[0m\n\u001b[0;32m    155\u001b[0m \u001b[38;5;250m\u001b[39m\u001b[38;5;124;03m\"\"\"\u001b[39;00m\n\u001b[0;32m    156\u001b[0m \u001b[38;5;124;03mFetch the run from backend store\u001b[39;00m\n\u001b[0;32m    157\u001b[0m \n\u001b[1;32m   (...)\u001b[0m\n\u001b[0;32m    162\u001b[0m \u001b[38;5;124;03m    A single Run object if it exists, otherwise raises an Exception\u001b[39;00m\n\u001b[0;32m    163\u001b[0m \u001b[38;5;124;03m\"\"\"\u001b[39;00m\n\u001b[0;32m    164\u001b[0m req_body \u001b[38;5;241m=\u001b[39m message_to_json(GetRun(run_uuid\u001b[38;5;241m=\u001b[39mrun_id, run_id\u001b[38;5;241m=\u001b[39mrun_id))\n\u001b[1;32m--> 165\u001b[0m response_proto \u001b[38;5;241m=\u001b[39m \u001b[38;5;28mself\u001b[39m\u001b[38;5;241m.\u001b[39m_call_endpoint(GetRun, req_body)\n\u001b[0;32m    166\u001b[0m \u001b[38;5;28;01mreturn\u001b[39;00m Run\u001b[38;5;241m.\u001b[39mfrom_proto(response_proto\u001b[38;5;241m.\u001b[39mrun)\n",
      "File \u001b[1;32m~\\anaconda3\\Lib\\site-packages\\mlflow\\store\\tracking\\rest_store.py:81\u001b[0m, in \u001b[0;36mRestStore._call_endpoint\u001b[1;34m(self, api, json_body, endpoint)\u001b[0m\n\u001b[0;32m     79\u001b[0m     endpoint, method \u001b[38;5;241m=\u001b[39m _METHOD_TO_INFO[api]\n\u001b[0;32m     80\u001b[0m response_proto \u001b[38;5;241m=\u001b[39m api\u001b[38;5;241m.\u001b[39mResponse()\n\u001b[1;32m---> 81\u001b[0m \u001b[38;5;28;01mreturn\u001b[39;00m call_endpoint(\u001b[38;5;28mself\u001b[39m\u001b[38;5;241m.\u001b[39mget_host_creds(), endpoint, method, json_body, response_proto)\n",
      "File \u001b[1;32m~\\anaconda3\\Lib\\site-packages\\mlflow\\utils\\rest_utils.py:304\u001b[0m, in \u001b[0;36mcall_endpoint\u001b[1;34m(host_creds, endpoint, method, json_body, response_proto, extra_headers)\u001b[0m\n\u001b[0;32m    301\u001b[0m     call_kwargs[\u001b[38;5;124m\"\u001b[39m\u001b[38;5;124mjson\u001b[39m\u001b[38;5;124m\"\u001b[39m] \u001b[38;5;241m=\u001b[39m json_body\n\u001b[0;32m    302\u001b[0m     response \u001b[38;5;241m=\u001b[39m http_request(\u001b[38;5;241m*\u001b[39m\u001b[38;5;241m*\u001b[39mcall_kwargs)\n\u001b[1;32m--> 304\u001b[0m response \u001b[38;5;241m=\u001b[39m verify_rest_response(response, endpoint)\n\u001b[0;32m    305\u001b[0m js_dict \u001b[38;5;241m=\u001b[39m json\u001b[38;5;241m.\u001b[39mloads(response\u001b[38;5;241m.\u001b[39mtext)\n\u001b[0;32m    306\u001b[0m parse_dict(js_dict\u001b[38;5;241m=\u001b[39mjs_dict, message\u001b[38;5;241m=\u001b[39mresponse_proto)\n",
      "File \u001b[1;32m~\\anaconda3\\Lib\\site-packages\\mlflow\\utils\\rest_utils.py:174\u001b[0m, in \u001b[0;36mverify_rest_response\u001b[1;34m(response, endpoint)\u001b[0m\n\u001b[0;32m    172\u001b[0m \u001b[38;5;28;01mif\u001b[39;00m response\u001b[38;5;241m.\u001b[39mstatus_code \u001b[38;5;241m!=\u001b[39m \u001b[38;5;241m200\u001b[39m:\n\u001b[0;32m    173\u001b[0m     \u001b[38;5;28;01mif\u001b[39;00m _can_parse_as_json_object(response\u001b[38;5;241m.\u001b[39mtext):\n\u001b[1;32m--> 174\u001b[0m         \u001b[38;5;28;01mraise\u001b[39;00m RestException(json\u001b[38;5;241m.\u001b[39mloads(response\u001b[38;5;241m.\u001b[39mtext))\n\u001b[0;32m    175\u001b[0m     \u001b[38;5;28;01melse\u001b[39;00m:\n\u001b[0;32m    176\u001b[0m         base_msg \u001b[38;5;241m=\u001b[39m (\n\u001b[0;32m    177\u001b[0m             \u001b[38;5;124mf\u001b[39m\u001b[38;5;124m\"\u001b[39m\u001b[38;5;124mAPI request to endpoint \u001b[39m\u001b[38;5;132;01m{\u001b[39;00mendpoint\u001b[38;5;132;01m}\u001b[39;00m\u001b[38;5;124m \u001b[39m\u001b[38;5;124m\"\u001b[39m\n\u001b[0;32m    178\u001b[0m             \u001b[38;5;124mf\u001b[39m\u001b[38;5;124m\"\u001b[39m\u001b[38;5;124mfailed with error code \u001b[39m\u001b[38;5;132;01m{\u001b[39;00mresponse\u001b[38;5;241m.\u001b[39mstatus_code\u001b[38;5;132;01m}\u001b[39;00m\u001b[38;5;124m != 200\u001b[39m\u001b[38;5;124m\"\u001b[39m\n\u001b[0;32m    179\u001b[0m         )\n",
      "\u001b[1;31mRestException\u001b[0m: RESOURCE_DOES_NOT_EXIST: Run with id=<Experiment: artifact_location='file: not found"
     ]
    }
   ],
   "source": [
    "# way 2\n",
    "run_id=client.get_experiment(experiment_id='0')\n",
    "\n",
    "print(run_id)\n",
    "mlflow.register_model(\n",
    "    model_uri=f\"runs:/{run_id}/models\",\n",
    "    name='xgboost-classifiers'\n",
    ")\n"
   ]
  },
  {
   "cell_type": "code",
   "execution_count": null,
   "id": "32c969e4",
   "metadata": {},
   "outputs": [],
   "source": [
    "# final aws ec2 main script file"
   ]
  },
  {
   "cell_type": "code",
   "execution_count": null,
   "id": "7cce3dd1",
   "metadata": {},
   "outputs": [],
   "source": [
    "# Hypertunning Random_search \n",
    "xgboost_params = {\n",
    "    'max_depth':range(3,10,2),\n",
    "    'min_child_weight':range(1,6,2)\n",
    "}\n",
    "\n",
    "kf = KFold(n_splits=30)\n",
    "\n",
    "model_param = {}\n",
    "\n",
    "randomcv_models = XGBClassifier()\n",
    "\n",
    "random = RandomizedSearchCV(estimator=randomcv_models,\n",
    "                                    param_distributions=xgboost_params,\n",
    "                                   n_iter=100,\n",
    "                                   cv=kf,\n",
    "                                   verbose=2, \n",
    "                                   n_jobs=-1)\n",
    "random.fit(Xscale, y)\n",
    "model_param = random.best_params_\n",
    "print(model_param)\n"
   ]
  },
  {
   "cell_type": "code",
   "execution_count": null,
   "id": "ef5654ce",
   "metadata": {},
   "outputs": [],
   "source": [
    "# Evaluate model\n",
    "best_models = {\n",
    "    \"XGBClassifier\": XGBClassifier(**model_param,n_jobs=-1),\n",
    "\n",
    "}\n"
   ]
  },
  {
   "cell_type": "code",
   "execution_count": null,
   "id": "1a6a6d23",
   "metadata": {},
   "outputs": [],
   "source": [
    "best_model = XGBClassifier(**model_param)\n",
    "best_model = best_model.fit(X_train,y_train)\n",
    "y_pred = best_model.predict(X_test)\n",
    "score = accuracy_score(y_test,y_pred)\n",
    "cr = classification_report(y_test,y_pred)\n",
    "\n",
    "print(\"FINAL MODEL 'XGBoost'\")\n",
    "print (\"Accuracy Score value: {:.4f}\".format(score))\n",
    "print (cr)"
   ]
  },
  {
   "cell_type": "code",
   "execution_count": null,
   "id": "229baf44",
   "metadata": {},
   "outputs": [],
   "source": []
  }
 ],
 "metadata": {
  "kernelspec": {
   "display_name": "Python 3 (ipykernel)",
   "language": "python",
   "name": "python3"
  },
  "language_info": {
   "codemirror_mode": {
    "name": "ipython",
    "version": 3
   },
   "file_extension": ".py",
   "mimetype": "text/x-python",
   "name": "python",
   "nbconvert_exporter": "python",
   "pygments_lexer": "ipython3",
   "version": "3.11.7"
  }
 },
 "nbformat": 4,
 "nbformat_minor": 5
}
